{
 "cells": [
  {
   "cell_type": "markdown",
   "metadata": {},
   "source": [
    "# Erick Ulrich Martinez Rangel                                       1661818\n",
    "\n",
    "Examen extraordinario "
   ]
  },
  {
   "cell_type": "code",
   "execution_count": 1,
   "metadata": {
    "scrolled": true
   },
   "outputs": [],
   "source": [
    "#Importamos esta libreria solo para uso de un generador de una variable random en un intervalo \n",
    "import random "
   ]
  },
  {
   "cell_type": "code",
   "execution_count": 2,
   "metadata": {},
   "outputs": [
    {
     "name": "stdout",
     "output_type": "stream",
     "text": [
      "[2930, 3777, 2189, 1961, 7859]\n",
      "[812, 7916, 5190, 8555, 2672, 7006, 2557, 5369, 4889, 4569]\n",
      "[4714, 9004, 2759, 657, 9012, 1497, 8704, 2646, 5563, 6895, 6654, 26, 7636, 7350, 3005]\n"
     ]
    }
   ],
   "source": [
    "#Parte 1-1\n",
    "#Se crea una funcion con parametro j donde \n",
    "def clista(j):\n",
    "    lista=[]\n",
    "    i=0\n",
    "    #Se crea un loop es decir un while donde i es una variable para moverse y j una variable dada en la funcion\n",
    "    while i < j :\n",
    "        lista.append(random.randint(0,9999))\n",
    "        i=i+1\n",
    "    return lista\n",
    "#Se llama la funcion y se da el parametro dependiendo de la cantidad de las listas \n",
    "lista1=clista(5)\n",
    "lista2=clista(10)\n",
    "lista3=clista(15)\n",
    "print(lista1)\n",
    "print(lista2)\n",
    "print(lista3)"
   ]
  },
  {
   "cell_type": "code",
   "execution_count": 3,
   "metadata": {},
   "outputs": [
    {
     "name": "stdout",
     "output_type": "stream",
     "text": [
      "9012\n",
      "26\n"
     ]
    }
   ],
   "source": [
    "#Parte 1-2\n",
    "#Se crea una funcion no tiene parametro alguno \n",
    "def maximo():\n",
    "    #Aqui se llama la lista que con anterioridad se creo es la 3 es una variable global \n",
    "    num=lista3[0]\n",
    "    #p es para moverse de 0 14\n",
    "    p=0\n",
    "    while p<=14:\n",
    "        #Aqui se compara uno por uno de toda la lista se toma el mas grande y lo guarda y asi se va comparando\n",
    "        if lista3[p]>num:\n",
    "            num=lista3[p]\n",
    "        p=p+1\n",
    "    print(num)  \n",
    "def minimo():\n",
    "    #se pone lista3[0] para tomar el primer valor de la lista y empezar a comparar\n",
    "    num=lista3[0]\n",
    "    p=0\n",
    "    while p<=14:\n",
    "        #Hasta aqui es todo igual solo que en ves del mas grande el mas pequeño \n",
    "        if lista3[p]<num:\n",
    "            num=lista3[p]\n",
    "        p=p+1\n",
    "    print(num)  \n",
    "maximo()\n",
    "minimo()"
   ]
  },
  {
   "cell_type": "code",
   "execution_count": 4,
   "metadata": {},
   "outputs": [
    {
     "name": "stdout",
     "output_type": "stream",
     "text": [
      "[9012, 9004, 8704, 7636, 7350, 6895, 6654, 5563, 4714, 3005, 2759, 2646, 1497, 657, 26]\n",
      "[26, 657, 1497, 2646, 2759, 3005, 4714, 5563, 6654, 6895, 7350, 7636, 8704, 9004, 9012]\n"
     ]
    }
   ],
   "source": [
    "#Parte 1-3\n",
    "def acomodoMayor(lista):\n",
    "    #GENERAMOS 3 Listas para mover los datos \n",
    "    mayores=[]\n",
    "    medios=[]\n",
    "    menores=[]\n",
    "    if len(lista)>1:\n",
    "        #se usa un pivote para mover un solo valor ala ves e irlo acomodando en su respectivo lugar \n",
    "        pivote=lista[0]\n",
    "        for i in lista:\n",
    "            #Aqui se guardan los menores \n",
    "            if i < pivote:\n",
    "                menores.append(i)\n",
    "            elif i==pivote: \n",
    "                medios.append(i)\n",
    "                #Aqui el de la mitad o los que son iguales \n",
    "            elif i> pivote:\n",
    "                #Aqui se guarda los mas grandes\n",
    "                mayores.append(i)\n",
    "        return acomodoMayor(mayores)+medios+acomodoMayor(menores)\n",
    "    else:\n",
    "        return lista\n",
    "print(acomodoMayor(lista3))\n",
    "\n",
    "def acomodoMenor(lista):\n",
    "    #GENERAMOS 3 Listas para mover los datos \n",
    "    mayores=[]\n",
    "    medios=[]\n",
    "    menores=[]\n",
    "    if len(lista)>1:\n",
    "        pivote=lista[0]\n",
    "        for i in lista:\n",
    "            #Aqui se guarda los mas grandes\n",
    "            if i < pivote:\n",
    "                mayores.append(i)\n",
    "                #Aqui el de la mitad o los que son iguales \n",
    "            elif i==pivote: \n",
    "                medios.append(i)\n",
    "                #Aqui se guardan los menores \n",
    "            elif i> pivote:\n",
    "                menores.append(i)\n",
    "        return acomodoMenor(mayores)+medios+acomodoMenor(menores)\n",
    "    else:\n",
    "        return lista\n",
    "print(acomodoMenor(lista3))    "
   ]
  },
  {
   "cell_type": "code",
   "execution_count": 5,
   "metadata": {},
   "outputs": [
    {
     "name": "stdout",
     "output_type": "stream",
     "text": [
      "[2930, 812, 7916, 5190, 2672, 7006, 4714, 9004, 9012, 8704, 2646, 6654, 26, 7636, 7350]\n"
     ]
    }
   ],
   "source": [
    "#Parte 1-4\n",
    "#Aqui los parametros de la funcion son las 3 listas\n",
    "def Pares(lista1,lista2,lista3):\n",
    "    #Una lista que guardara los valores impares \n",
    "    ParesList=[]\n",
    "    i=0\n",
    "    #se usa un if para comparar cada valor  y saber si es impar\n",
    "    while i < len(lista1):\n",
    "        num=lista1[i]\n",
    "        #Se usa num como pivote variable que guardar un valor de una lista y poderse hacer la comparacion si el residuo de su division entre 2 es 0 asi se sabe si es impar\n",
    "        if num%2==0:\n",
    "             ParesList.append(num)\n",
    "        i=i+1\n",
    "    i=0\n",
    "    #Se repite el mismo proceso en las 3 lsitas \n",
    "    while i < len(lista2):\n",
    "        num=lista2[i]\n",
    "        if num%2==0:\n",
    "            ParesList.append(num)\n",
    "        i=i+1\n",
    "    i=0            \n",
    "    while i < len(lista3):\n",
    "        num=lista3[i]\n",
    "        if num%2==0:\n",
    "            ParesList.append(num)\n",
    "        i=i+1\n",
    "    i=0\n",
    "    return ParesList\n",
    "print(Pares(lista1,lista2,lista3))"
   ]
  },
  {
   "cell_type": "code",
   "execution_count": 6,
   "metadata": {},
   "outputs": [
    {
     "name": "stdout",
     "output_type": "stream",
     "text": [
      "[4714, 9004, -1, -1, 9012, -1, 8704, 2646, -1, -1, 6654, 26, 7636, 7350, -1]\n"
     ]
    }
   ],
   "source": [
    "#Parte 1-5\n",
    "#se crea una funcion que contiene un parametro que es la lista tres que contiene los valores a comparar para saber si son impares\n",
    "def inpares(lista3):\n",
    "    #se crea una lista para guardar lo que se va a retornar\n",
    "    inpareslist=[]\n",
    "    i=0            \n",
    "    while i < len(lista3):\n",
    "        num=lista3[i]\n",
    "        if num%2==0:\n",
    "            #Aqui se agregab a una lista los inpares\n",
    "            inpareslist.append(num)\n",
    "        else:\n",
    "            #Y aqui se introduce un -1 ala lista si es par\n",
    "            inpareslist.append(-1)\n",
    "        i=i+1 \n",
    "    return inpareslist\n",
    "print(inpares(lista3))\n",
    "        "
   ]
  },
  {
   "cell_type": "code",
   "execution_count": 7,
   "metadata": {
    "scrolled": true
   },
   "outputs": [
    {
     "name": "stdout",
     "output_type": "stream",
     "text": [
      "ingrese valor de celsius5\n",
      "Tu temperatura es 41.0 °  fahrenheit\n"
     ]
    }
   ],
   "source": [
    "#Parte 1-6\n",
    "def convertidor():\n",
    "    #Aqui solo se pide que ingreses los celsius y lo convierte en flotante para poderse multiplicar por 1.8 \n",
    "    cel=float(input(\"ingrese valor de celsius\"))\n",
    "    #Se realiza una formula y ya\n",
    "    fer=((cel*1.8)+32)\n",
    "    #retonas fe para que imprima lo que retorna\n",
    "    return fer\n",
    "print (\"Tu temperatura es\",convertidor(),\"°  fahrenheit\")"
   ]
  },
  {
   "cell_type": "code",
   "execution_count": 8,
   "metadata": {},
   "outputs": [
    {
     "name": "stdout",
     "output_type": "stream",
     "text": [
      "[9, 4, 5, 6, 11]\n"
     ]
    }
   ],
   "source": [
    "#Parte 1-7\n",
    "ListaA=[1, 2, 3, 9, 3, 4, 3, 4, 5, 6, 11]\n",
    "ListaB=[10, 6, 5, 7, 11, 12, 4, 5, 9, 66]\n",
    "ListaC=[]\n",
    "i=0\n",
    "while i< len(ListaA):\n",
    "    num=ListaA[i]\n",
    "    j=0\n",
    "    while j< len(ListaB):\n",
    "        if num==ListaB[j]:\n",
    "            existe=False\n",
    "            k=0\n",
    "            while k<len(ListaC):\n",
    "                if num==ListaC[k]:\n",
    "                    #True nos sirve para poder brincar el while en caso de que ya paso mas de una vez por la comparacion de ser iguales\n",
    "                    existe=True\n",
    "                    #Aqui uso el break para evitar que se repitan los numeros ya que hay varios que se repiten y son iguales \n",
    "                    break\n",
    "                k=k+1\n",
    "            if existe==False:\n",
    "                ListaC.append(num)\n",
    "        j=j+1\n",
    "    i=i+1\n",
    "i=0        \n",
    "print(ListaC)"
   ]
  },
  {
   "cell_type": "code",
   "execution_count": 9,
   "metadata": {
    "scrolled": true
   },
   "outputs": [],
   "source": [
    "#Parte 2\n",
    "#Librerias para uso de graficas \n",
    "import pandas as pd\n",
    "import matplotlib.pyplot as plt\n",
    "import matplotlib\n",
    "import numpy as np\n",
    "pad=\"aug_test.csv\"\n",
    "#pad me sirve para no tener que escribir la direcion despues asi la guardo en una variable que pueda manipular\n",
    "Datos=pd.read_csv(\"aug_test.csv\",engine='python')\n",
    "pad=\"aug_train.csv\"\n",
    "#Usamos esta funcion para pasar los valores del csv a una variable Datos2 que es una tabla con todos los valores\n",
    "Datos2=pd.read_csv(\"aug_train.csv\",engine='python')"
   ]
  },
  {
   "cell_type": "markdown",
   "metadata": {},
   "source": [
    "#### Descripción    \n",
    "# Introducción\n",
    "    \n",
    "En este proyecto estaremos trabajando con una base de datos de una compañía de Minería de Datos los cuales quieren saber si existe una correlación de la gente que cambia de trabajo después de recibir una capacitación en alguna rama nosotros lo que estaremos manejando son datos en un csv el cual nos otorgaron dicha empresa para así analizar toda su documentación esperemos llegar a un buen camino él nos ayude a visualizar lo que dicha empresa nos propuso que encontráramos.\n",
    "\n",
    "### Datos\n",
    "\n",
    "    \"enrollee_id\"______________________Entero   \n",
    "    \"city\"_____________________________Arreglo  \n",
    "    \"city_development_index\"___________Flotante   \n",
    "    \"gender\"___________________________Arreglo   \n",
    "    \"relevent_experience\"______________Arreglo \n",
    "    \"enrolled_university\"______________Arreglo    \n",
    "    \"education_level\"__________________Arreglo   \n",
    "    \"major_discipline\"_________________Arreglo    \n",
    "    \"experience\"_______________________Arreglo   \n",
    "    \"company_size\"_____________________Arreglo   \n",
    "    \"company_type\"_____________________Arreglo\n",
    "    \"last_new_job\"_____________________Arreglo  \n",
    "    \"training_hours\"___________________Entero   \n",
    "    \"target\"___________________________Flotante   \n",
    "    \n",
    "### Descripción   \n",
    "Esta base de datos es de una empresa que quiere contratar a científicos en Datos,\n",
    "La empresa quiere saber cuáles de estos candidatos realmente quieren trabajar para\n",
    "la empresa después de la formación o de buscar un nuevo empleo porque ayuda a reducir el coste y el tiempo \n",
    "la Base de datos pesa 205.57 KB \n",
    "\n",
    "Objetivos \n",
    "Encontrar si existe una relación al querer cambiar de trabajo después de su capacitación.\n",
    "\n",
    "Generar Graficas para ver números en concreto y ver si existe una relacion.\n",
    "\n",
    "Visualizar la correlación de los datos para perdidas de costo y tiempo basado en los datos que nos ofrecen."
   ]
  },
  {
   "cell_type": "code",
   "execution_count": 10,
   "metadata": {
    "scrolled": true
   },
   "outputs": [
    {
     "data": {
      "text/html": [
       "<div>\n",
       "<style scoped>\n",
       "    .dataframe tbody tr th:only-of-type {\n",
       "        vertical-align: middle;\n",
       "    }\n",
       "\n",
       "    .dataframe tbody tr th {\n",
       "        vertical-align: top;\n",
       "    }\n",
       "\n",
       "    .dataframe thead th {\n",
       "        text-align: right;\n",
       "    }\n",
       "</style>\n",
       "<table border=\"1\" class=\"dataframe\">\n",
       "  <thead>\n",
       "    <tr style=\"text-align: right;\">\n",
       "      <th></th>\n",
       "      <th>enrollee_id</th>\n",
       "      <th>city</th>\n",
       "      <th>city_development_index</th>\n",
       "      <th>gender</th>\n",
       "      <th>relevent_experience</th>\n",
       "      <th>enrolled_university</th>\n",
       "      <th>education_level</th>\n",
       "      <th>major_discipline</th>\n",
       "      <th>experience</th>\n",
       "      <th>company_size</th>\n",
       "      <th>company_type</th>\n",
       "      <th>last_new_job</th>\n",
       "      <th>training_hours</th>\n",
       "      <th>target</th>\n",
       "    </tr>\n",
       "  </thead>\n",
       "  <tbody>\n",
       "    <tr>\n",
       "      <th>0</th>\n",
       "      <td>8949</td>\n",
       "      <td>city_103</td>\n",
       "      <td>0.920</td>\n",
       "      <td>Male</td>\n",
       "      <td>Has relevent experience</td>\n",
       "      <td>no_enrollment</td>\n",
       "      <td>Graduate</td>\n",
       "      <td>STEM</td>\n",
       "      <td>&gt;20</td>\n",
       "      <td>NaN</td>\n",
       "      <td>NaN</td>\n",
       "      <td>1</td>\n",
       "      <td>36</td>\n",
       "      <td>1.0</td>\n",
       "    </tr>\n",
       "    <tr>\n",
       "      <th>1</th>\n",
       "      <td>29725</td>\n",
       "      <td>city_40</td>\n",
       "      <td>0.776</td>\n",
       "      <td>Male</td>\n",
       "      <td>No relevent experience</td>\n",
       "      <td>no_enrollment</td>\n",
       "      <td>Graduate</td>\n",
       "      <td>STEM</td>\n",
       "      <td>15</td>\n",
       "      <td>50-99</td>\n",
       "      <td>Pvt Ltd</td>\n",
       "      <td>&gt;4</td>\n",
       "      <td>47</td>\n",
       "      <td>0.0</td>\n",
       "    </tr>\n",
       "    <tr>\n",
       "      <th>2</th>\n",
       "      <td>11561</td>\n",
       "      <td>city_21</td>\n",
       "      <td>0.624</td>\n",
       "      <td>NaN</td>\n",
       "      <td>No relevent experience</td>\n",
       "      <td>Full time course</td>\n",
       "      <td>Graduate</td>\n",
       "      <td>STEM</td>\n",
       "      <td>5</td>\n",
       "      <td>NaN</td>\n",
       "      <td>NaN</td>\n",
       "      <td>never</td>\n",
       "      <td>83</td>\n",
       "      <td>0.0</td>\n",
       "    </tr>\n",
       "    <tr>\n",
       "      <th>3</th>\n",
       "      <td>33241</td>\n",
       "      <td>city_115</td>\n",
       "      <td>0.789</td>\n",
       "      <td>NaN</td>\n",
       "      <td>No relevent experience</td>\n",
       "      <td>NaN</td>\n",
       "      <td>Graduate</td>\n",
       "      <td>Business Degree</td>\n",
       "      <td>&lt;1</td>\n",
       "      <td>NaN</td>\n",
       "      <td>Pvt Ltd</td>\n",
       "      <td>never</td>\n",
       "      <td>52</td>\n",
       "      <td>1.0</td>\n",
       "    </tr>\n",
       "    <tr>\n",
       "      <th>4</th>\n",
       "      <td>666</td>\n",
       "      <td>city_162</td>\n",
       "      <td>0.767</td>\n",
       "      <td>Male</td>\n",
       "      <td>Has relevent experience</td>\n",
       "      <td>no_enrollment</td>\n",
       "      <td>Masters</td>\n",
       "      <td>STEM</td>\n",
       "      <td>&gt;20</td>\n",
       "      <td>50-99</td>\n",
       "      <td>Funded Startup</td>\n",
       "      <td>4</td>\n",
       "      <td>8</td>\n",
       "      <td>0.0</td>\n",
       "    </tr>\n",
       "  </tbody>\n",
       "</table>\n",
       "</div>"
      ],
      "text/plain": [
       "   enrollee_id      city  city_development_index gender  \\\n",
       "0         8949  city_103                   0.920   Male   \n",
       "1        29725   city_40                   0.776   Male   \n",
       "2        11561   city_21                   0.624    NaN   \n",
       "3        33241  city_115                   0.789    NaN   \n",
       "4          666  city_162                   0.767   Male   \n",
       "\n",
       "       relevent_experience enrolled_university education_level  \\\n",
       "0  Has relevent experience       no_enrollment        Graduate   \n",
       "1   No relevent experience       no_enrollment        Graduate   \n",
       "2   No relevent experience    Full time course        Graduate   \n",
       "3   No relevent experience                 NaN        Graduate   \n",
       "4  Has relevent experience       no_enrollment         Masters   \n",
       "\n",
       "  major_discipline experience company_size    company_type last_new_job  \\\n",
       "0             STEM        >20          NaN             NaN            1   \n",
       "1             STEM         15        50-99         Pvt Ltd           >4   \n",
       "2             STEM          5          NaN             NaN        never   \n",
       "3  Business Degree         <1          NaN         Pvt Ltd        never   \n",
       "4             STEM        >20        50-99  Funded Startup            4   \n",
       "\n",
       "   training_hours  target  \n",
       "0              36     1.0  \n",
       "1              47     0.0  \n",
       "2              83     0.0  \n",
       "3              52     1.0  \n",
       "4               8     0.0  "
      ]
     },
     "execution_count": 10,
     "metadata": {},
     "output_type": "execute_result"
    }
   ],
   "source": [
    "Datos2.head()\n",
    "#Imprimi los primeros datos para poder visualizar si contenia la inormacion del csv"
   ]
  },
  {
   "cell_type": "code",
   "execution_count": 11,
   "metadata": {
    "scrolled": true
   },
   "outputs": [
    {
     "data": {
      "text/plain": [
       "19158"
      ]
     },
     "execution_count": 11,
     "metadata": {},
     "output_type": "execute_result"
    }
   ],
   "source": [
    "+Datos2.shape[0]\n",
    "#muestra numero de filas"
   ]
  },
  {
   "cell_type": "code",
   "execution_count": 12,
   "metadata": {
    "scrolled": true
   },
   "outputs": [
    {
     "name": "stdout",
     "output_type": "stream",
     "text": [
      "Nivel de estudios \n",
      " Maestros= 4361 \n",
      " Preparatoria= 2017 \n",
      " Licenciados= 11598 \n",
      " Doctores= 414\n"
     ]
    },
    {
     "data": {
      "image/png": "[encoded data removed]",
      "text/plain": [
       "<Figure size 432x288 with 1 Axes>"
      ]
     },
     "metadata": {},
     "output_type": "display_data"
    }
   ],
   "source": [
    "#Graficas \n",
    "#Grafica de pastel de nivel de estudios \n",
    "NivelEstudio=Datos2['education_level']\n",
    "NivelEstudio.head()\n",
    "#CantidadA= Masters\n",
    "#CantidadB= High School\n",
    "#CantidadC= Graduate\n",
    "#CantidadD= Doctorado\n",
    "CantidadA=0\n",
    "CantidadB=0\n",
    "CantidadC=0\n",
    "#Creamos una funcion para poder reutilizarla un contablizar la cantidad de valores para la creacion de una grafica de pastel \n",
    "def Contador(Palabra):\n",
    "    Cantidad=0\n",
    "    i=0\n",
    "    while i<len(NivelEstudio):\n",
    "        pivote=NivelEstudio[i]\n",
    "        if pivote==Palabra:\n",
    "            Cantidad=Cantidad+1\n",
    "        else:\n",
    "            Catidad=0\n",
    "        i=i+1\n",
    "    return(Cantidad)\n",
    "CatindiadA=Contador(\"Masters\")\n",
    "CatindiadB=Contador(\"High School\")\n",
    "CatindiadC=Contador(\"Graduate\")\n",
    "CatindiadD=Contador(\"Phd\")\n",
    "print(\"Nivel de estudios\",\"\\n\",\"Maestros=\",CatindiadA,\"\\n\",\"Preparatoria=\",CatindiadB,\"\\n\",\"Licenciados=\",CatindiadC,\"\\n\",\"Doctores=\",CatindiadD)\n",
    "Estudios = [CatindiadA,CatindiadB,CatindiadC,CatindiadD]\n",
    "nombres = [\"Maestros\",\"Preparatoria\",\"Licenciados\",\"Doctores\"]\n",
    "colores = [\"#EE6055\",\"#60D394\",\"#AAF683\",\"#FFD97D\",\"#FF9B85\"]\n",
    "desfase = (0, 0, 0.1,0)\n",
    "plt.pie(Estudios,labels=nombres,autopct=\"%0.1f %%\",colors=colores,explode=desfase)\n",
    "plt.axis(\"equal\")\n",
    "plt.show()\n"
   ]
  },
  {
   "cell_type": "markdown",
   "metadata": {},
   "source": [
    "#### Grafica 1\n",
    "\n",
    "Podemos notar que la cantidad de licenciados es un 63% es decir que es la gran mayoría de empleados que son licenciados todos ellos buscan capacitación entonces todo eso se verá reflejado en el costo y tiempo de la empresa son valores que se necesitan para un buen análisis.\n"
   ]
  },
  {
   "cell_type": "code",
   "execution_count": 13,
   "metadata": {
    "scrolled": true
   },
   "outputs": [
    {
     "name": "stdout",
     "output_type": "stream",
     "text": [
      "No Busca Trabaja= 14381\n",
      "Busca Trabajo= 4777\n"
     ]
    },
    {
     "data": {
      "image/png": "[encoded data removed]",
      "text/plain": [
       "<Figure size 432x288 with 1 Axes>"
      ]
     },
     "metadata": {
      "needs_background": "light"
     },
     "output_type": "display_data"
    }
   ],
   "source": [
    "#0 No busca Trabajo\n",
    "#1 Busca Trabajo\n",
    "TrabajaTarget=Datos2[\"target\"]\n",
    "#Contar cuantos buscan trabajo y cuantos no para poder graficar \n",
    "i=0\n",
    "NoCambiaTra=0\n",
    "CambiaTra=0\n",
    "while i<len(TrabajaTarget):\n",
    "    pivote=TrabajaTarget[i]\n",
    "    if pivote==1:\n",
    "        CambiaTra=CambiaTra+1\n",
    "    else:\n",
    "        NoCambiaTra=NoCambiaTra+1\n",
    "    i=i+1\n",
    "print(\"No Busca Trabaja=\",NoCambiaTra)\n",
    "print(\"Busca Trabajo=\",CambiaTra)\n",
    "Traba=[\"Busca Trabajo\",\"No Busca Trabajo\"]\n",
    "Personas=[NoCambiaTra,CambiaTra]\n",
    "fig, ax = plt.subplots()\n",
    "ax.set_ylabel('Personas')\n",
    "ax.set_title('Busca o no trabajo')\n",
    "plt.bar(Traba,Personas)\n",
    "#Finalmente mostramos la grafica \n",
    "plt.show()"
   ]
  },
  {
   "cell_type": "markdown",
   "metadata": {},
   "source": [
    "#### Grafica 2\n",
    "\n",
    "En esta grafica se nota la cantidad de personas que buscan trabajo después de ser capacitados en esa misma empresa todo eso se reflejaría en tiempo y dinero."
   ]
  },
  {
   "cell_type": "code",
   "execution_count": 14,
   "metadata": {
    "scrolled": true
   },
   "outputs": [
    {
     "data": {
      "text/html": [
       "<div>\n",
       "<style scoped>\n",
       "    .dataframe tbody tr th:only-of-type {\n",
       "        vertical-align: middle;\n",
       "    }\n",
       "\n",
       "    .dataframe tbody tr th {\n",
       "        vertical-align: top;\n",
       "    }\n",
       "\n",
       "    .dataframe thead th {\n",
       "        text-align: right;\n",
       "    }\n",
       "</style>\n",
       "<table border=\"1\" class=\"dataframe\">\n",
       "  <thead>\n",
       "    <tr style=\"text-align: right;\">\n",
       "      <th></th>\n",
       "      <th>enrollee_id</th>\n",
       "      <th>city</th>\n",
       "      <th>city_development_index</th>\n",
       "      <th>gender</th>\n",
       "      <th>relevent_experience</th>\n",
       "      <th>enrolled_university</th>\n",
       "      <th>education_level</th>\n",
       "      <th>major_discipline</th>\n",
       "      <th>experience</th>\n",
       "      <th>company_size</th>\n",
       "      <th>company_type</th>\n",
       "      <th>last_new_job</th>\n",
       "      <th>training_hours</th>\n",
       "      <th>target</th>\n",
       "    </tr>\n",
       "  </thead>\n",
       "  <tbody>\n",
       "    <tr>\n",
       "      <th>0</th>\n",
       "      <td>8949</td>\n",
       "      <td>city_103</td>\n",
       "      <td>0.920</td>\n",
       "      <td>Male</td>\n",
       "      <td>Has relevent experience</td>\n",
       "      <td>no_enrollment</td>\n",
       "      <td>Graduate</td>\n",
       "      <td>STEM</td>\n",
       "      <td>&gt;20</td>\n",
       "      <td>NaN</td>\n",
       "      <td>NaN</td>\n",
       "      <td>1</td>\n",
       "      <td>36</td>\n",
       "      <td>1.0</td>\n",
       "    </tr>\n",
       "    <tr>\n",
       "      <th>1</th>\n",
       "      <td>29725</td>\n",
       "      <td>city_40</td>\n",
       "      <td>0.776</td>\n",
       "      <td>Male</td>\n",
       "      <td>No relevent experience</td>\n",
       "      <td>no_enrollment</td>\n",
       "      <td>Graduate</td>\n",
       "      <td>STEM</td>\n",
       "      <td>15</td>\n",
       "      <td>50-99</td>\n",
       "      <td>Pvt Ltd</td>\n",
       "      <td>&gt;4</td>\n",
       "      <td>47</td>\n",
       "      <td>0.0</td>\n",
       "    </tr>\n",
       "    <tr>\n",
       "      <th>2</th>\n",
       "      <td>11561</td>\n",
       "      <td>city_21</td>\n",
       "      <td>0.624</td>\n",
       "      <td>NaN</td>\n",
       "      <td>No relevent experience</td>\n",
       "      <td>Full time course</td>\n",
       "      <td>Graduate</td>\n",
       "      <td>STEM</td>\n",
       "      <td>5</td>\n",
       "      <td>NaN</td>\n",
       "      <td>NaN</td>\n",
       "      <td>never</td>\n",
       "      <td>83</td>\n",
       "      <td>0.0</td>\n",
       "    </tr>\n",
       "    <tr>\n",
       "      <th>3</th>\n",
       "      <td>33241</td>\n",
       "      <td>city_115</td>\n",
       "      <td>0.789</td>\n",
       "      <td>NaN</td>\n",
       "      <td>No relevent experience</td>\n",
       "      <td>NaN</td>\n",
       "      <td>Graduate</td>\n",
       "      <td>Business Degree</td>\n",
       "      <td>&lt;1</td>\n",
       "      <td>NaN</td>\n",
       "      <td>Pvt Ltd</td>\n",
       "      <td>never</td>\n",
       "      <td>52</td>\n",
       "      <td>1.0</td>\n",
       "    </tr>\n",
       "    <tr>\n",
       "      <th>4</th>\n",
       "      <td>666</td>\n",
       "      <td>city_162</td>\n",
       "      <td>0.767</td>\n",
       "      <td>Male</td>\n",
       "      <td>Has relevent experience</td>\n",
       "      <td>no_enrollment</td>\n",
       "      <td>Masters</td>\n",
       "      <td>STEM</td>\n",
       "      <td>&gt;20</td>\n",
       "      <td>50-99</td>\n",
       "      <td>Funded Startup</td>\n",
       "      <td>4</td>\n",
       "      <td>8</td>\n",
       "      <td>0.0</td>\n",
       "    </tr>\n",
       "  </tbody>\n",
       "</table>\n",
       "</div>"
      ],
      "text/plain": [
       "   enrollee_id      city  city_development_index gender  \\\n",
       "0         8949  city_103                   0.920   Male   \n",
       "1        29725   city_40                   0.776   Male   \n",
       "2        11561   city_21                   0.624    NaN   \n",
       "3        33241  city_115                   0.789    NaN   \n",
       "4          666  city_162                   0.767   Male   \n",
       "\n",
       "       relevent_experience enrolled_university education_level  \\\n",
       "0  Has relevent experience       no_enrollment        Graduate   \n",
       "1   No relevent experience       no_enrollment        Graduate   \n",
       "2   No relevent experience    Full time course        Graduate   \n",
       "3   No relevent experience                 NaN        Graduate   \n",
       "4  Has relevent experience       no_enrollment         Masters   \n",
       "\n",
       "  major_discipline experience company_size    company_type last_new_job  \\\n",
       "0             STEM        >20          NaN             NaN            1   \n",
       "1             STEM         15        50-99         Pvt Ltd           >4   \n",
       "2             STEM          5          NaN             NaN        never   \n",
       "3  Business Degree         <1          NaN         Pvt Ltd        never   \n",
       "4             STEM        >20        50-99  Funded Startup            4   \n",
       "\n",
       "   training_hours  target  \n",
       "0              36     1.0  \n",
       "1              47     0.0  \n",
       "2              83     0.0  \n",
       "3              52     1.0  \n",
       "4               8     0.0  "
      ]
     },
     "execution_count": 14,
     "metadata": {},
     "output_type": "execute_result"
    }
   ],
   "source": [
    "Datos3=Datos2\n",
    "Datos3.head()"
   ]
  },
  {
   "cell_type": "markdown",
   "metadata": {},
   "source": [
    "Aquí se eliminaron estos valores en un tabla alterna para tener mejor manipulación y poder graficar las horas de capacitación y se deja el nivel de estudios todo lo demás estaba de más.\n"
   ]
  },
  {
   "cell_type": "code",
   "execution_count": 15,
   "metadata": {},
   "outputs": [],
   "source": [
    "del Datos3[\"company_size\"]\n",
    "del Datos3[\"relevent_experience\"]\n",
    "del Datos3[\"major_discipline\"]\n",
    "del Datos3[\"experience\"]\n",
    "del Datos3[\"last_new_job\"]\n",
    "del Datos3[\"city\"]\n",
    "del Datos3[\"city_development_index\"]\n",
    "del Datos3[\"gender\"]\n",
    "del Datos3[\"enrolled_university\"]\n",
    "del Datos3[\"target\"]\n",
    "del Datos3[\"company_type\"]\n"
   ]
  },
  {
   "cell_type": "code",
   "execution_count": 16,
   "metadata": {},
   "outputs": [
    {
     "data": {
      "text/html": [
       "<div>\n",
       "<style scoped>\n",
       "    .dataframe tbody tr th:only-of-type {\n",
       "        vertical-align: middle;\n",
       "    }\n",
       "\n",
       "    .dataframe tbody tr th {\n",
       "        vertical-align: top;\n",
       "    }\n",
       "\n",
       "    .dataframe thead th {\n",
       "        text-align: right;\n",
       "    }\n",
       "</style>\n",
       "<table border=\"1\" class=\"dataframe\">\n",
       "  <thead>\n",
       "    <tr style=\"text-align: right;\">\n",
       "      <th></th>\n",
       "      <th>enrollee_id</th>\n",
       "      <th>education_level</th>\n",
       "      <th>training_hours</th>\n",
       "    </tr>\n",
       "  </thead>\n",
       "  <tbody>\n",
       "    <tr>\n",
       "      <th>0</th>\n",
       "      <td>8949</td>\n",
       "      <td>Graduate</td>\n",
       "      <td>36</td>\n",
       "    </tr>\n",
       "    <tr>\n",
       "      <th>1</th>\n",
       "      <td>29725</td>\n",
       "      <td>Graduate</td>\n",
       "      <td>47</td>\n",
       "    </tr>\n",
       "    <tr>\n",
       "      <th>2</th>\n",
       "      <td>11561</td>\n",
       "      <td>Graduate</td>\n",
       "      <td>83</td>\n",
       "    </tr>\n",
       "    <tr>\n",
       "      <th>3</th>\n",
       "      <td>33241</td>\n",
       "      <td>Graduate</td>\n",
       "      <td>52</td>\n",
       "    </tr>\n",
       "    <tr>\n",
       "      <th>4</th>\n",
       "      <td>666</td>\n",
       "      <td>Masters</td>\n",
       "      <td>8</td>\n",
       "    </tr>\n",
       "  </tbody>\n",
       "</table>\n",
       "</div>"
      ],
      "text/plain": [
       "   enrollee_id education_level  training_hours\n",
       "0         8949        Graduate              36\n",
       "1        29725        Graduate              47\n",
       "2        11561        Graduate              83\n",
       "3        33241        Graduate              52\n",
       "4          666         Masters               8"
      ]
     },
     "execution_count": 16,
     "metadata": {},
     "output_type": "execute_result"
    }
   ],
   "source": [
    "#Lo que se busca es hacer uso de otra forma de manipular la informacion \n",
    "Datos3.head()"
   ]
  },
  {
   "cell_type": "code",
   "execution_count": 17,
   "metadata": {
    "scrolled": true
   },
   "outputs": [
    {
     "name": "stdout",
     "output_type": "stream",
     "text": [
      "Horas de Licenciados: 762840 \n",
      "\n",
      "Horas de Maestrias: 275924 \n",
      "\n",
      "Horas de Doctorados: 27955 \n",
      "\n",
      "Horas de Preparatoria: 134495 \n",
      "\n"
     ]
    },
    {
     "data": {
      "image/png": "[encoded data removed]",
      "text/plain": [
       "<Figure size 432x288 with 1 Axes>"
      ]
     },
     "metadata": {
      "needs_background": "light"
     },
     "output_type": "display_data"
    }
   ],
   "source": [
    "horasM=0\n",
    "horasP=0\n",
    "horasH=0\n",
    "horasG=0\n",
    "i=0\n",
    "while i<len(Datos3):\n",
    "    pivote=Datos3['education_level'][i]\n",
    "    if pivote==\"Graduate\":\n",
    "        horasG=horasG+Datos3['training_hours'][i]\n",
    "    if pivote==\"Masters\":\n",
    "        horasM=horasM+Datos3['training_hours'][i]\n",
    "    if pivote==\"Phd\":\n",
    "        horasP=horasP+Datos3['training_hours'][i]\n",
    "    if pivote==\"High School\":\n",
    "        horasH=horasH+Datos3['training_hours'][i]\n",
    "    i=i+1\n",
    "print(\"Horas de Licenciados:\",horasG,\"\\n\")\n",
    "print(\"Horas de Maestrias:\",horasM,\"\\n\")\n",
    "print(\"Horas de Doctorados:\",horasP,\"\\n\")\n",
    "print(\"Horas de Preparatoria:\",horasH,\"\\n\")\n",
    "niveles=['Licenciados','Maestrias','Doctorados','Preparatoria']\n",
    "horas=[horasG,horasM,horasP,horasH]\n",
    "fig, ax = plt.subplots()\n",
    "ax.set_ylabel('Horas')\n",
    "colores = [\"#EE6055\",\"#60D394\",\"#AAF683\",\"#FFD97D\",\"#FF9B85\"]\n",
    "ax.set_title('Horas de Cpacitacion X nivel de estudios')\n",
    "plt.bar(niveles,horas)\n",
    "#Finalmente mostramos la grafica \n",
    "plt.show()\n"
   ]
  },
  {
   "cell_type": "markdown",
   "metadata": {},
   "source": [
    "#### Grafica 3\n",
    "\n",
    "En esta grafica funciona para ver cuantas horas de capacitación tienen cada nivel de estudios como muestra nos da que:\n",
    "\n",
    "Horas de Licenciados: 762840\n",
    "\n",
    "Horas de Maestrías: 275924\n",
    "\n",
    "Horas de Doctorados: 27955\n",
    "\n",
    "Horas de Preparatoria: 134495 \n",
    "\n",
    "\n",
    "Se nota una gran diferencia en el área de que los licenciados o recién egresados son los que más capacitación buscan.\n"
   ]
  },
  {
   "cell_type": "code",
   "execution_count": 37,
   "metadata": {
    "scrolled": true
   },
   "outputs": [
    {
     "data": {
      "text/html": [
       "<div>\n",
       "<style scoped>\n",
       "    .dataframe tbody tr th:only-of-type {\n",
       "        vertical-align: middle;\n",
       "    }\n",
       "\n",
       "    .dataframe tbody tr th {\n",
       "        vertical-align: top;\n",
       "    }\n",
       "\n",
       "    .dataframe thead th {\n",
       "        text-align: right;\n",
       "    }\n",
       "</style>\n",
       "<table border=\"1\" class=\"dataframe\">\n",
       "  <thead>\n",
       "    <tr style=\"text-align: right;\">\n",
       "      <th></th>\n",
       "      <th>enrollee_id</th>\n",
       "      <th>city</th>\n",
       "      <th>city_development_index</th>\n",
       "      <th>gender</th>\n",
       "      <th>relevent_experience</th>\n",
       "      <th>enrolled_university</th>\n",
       "      <th>education_level</th>\n",
       "      <th>major_discipline</th>\n",
       "      <th>experience</th>\n",
       "      <th>company_size</th>\n",
       "      <th>company_type</th>\n",
       "      <th>last_new_job</th>\n",
       "      <th>training_hours</th>\n",
       "      <th>target</th>\n",
       "    </tr>\n",
       "  </thead>\n",
       "  <tbody>\n",
       "    <tr>\n",
       "      <th>0</th>\n",
       "      <td>8949</td>\n",
       "      <td>city_103</td>\n",
       "      <td>0.920</td>\n",
       "      <td>Male</td>\n",
       "      <td>Has relevent experience</td>\n",
       "      <td>no_enrollment</td>\n",
       "      <td>Graduate</td>\n",
       "      <td>STEM</td>\n",
       "      <td>&gt;20</td>\n",
       "      <td>NaN</td>\n",
       "      <td>NaN</td>\n",
       "      <td>1</td>\n",
       "      <td>36</td>\n",
       "      <td>1.0</td>\n",
       "    </tr>\n",
       "    <tr>\n",
       "      <th>1</th>\n",
       "      <td>29725</td>\n",
       "      <td>city_40</td>\n",
       "      <td>0.776</td>\n",
       "      <td>Male</td>\n",
       "      <td>No relevent experience</td>\n",
       "      <td>no_enrollment</td>\n",
       "      <td>Graduate</td>\n",
       "      <td>STEM</td>\n",
       "      <td>15</td>\n",
       "      <td>50-99</td>\n",
       "      <td>Pvt Ltd</td>\n",
       "      <td>&gt;4</td>\n",
       "      <td>47</td>\n",
       "      <td>0.0</td>\n",
       "    </tr>\n",
       "    <tr>\n",
       "      <th>2</th>\n",
       "      <td>11561</td>\n",
       "      <td>city_21</td>\n",
       "      <td>0.624</td>\n",
       "      <td>NaN</td>\n",
       "      <td>No relevent experience</td>\n",
       "      <td>Full time course</td>\n",
       "      <td>Graduate</td>\n",
       "      <td>STEM</td>\n",
       "      <td>5</td>\n",
       "      <td>NaN</td>\n",
       "      <td>NaN</td>\n",
       "      <td>never</td>\n",
       "      <td>83</td>\n",
       "      <td>0.0</td>\n",
       "    </tr>\n",
       "    <tr>\n",
       "      <th>3</th>\n",
       "      <td>33241</td>\n",
       "      <td>city_115</td>\n",
       "      <td>0.789</td>\n",
       "      <td>NaN</td>\n",
       "      <td>No relevent experience</td>\n",
       "      <td>NaN</td>\n",
       "      <td>Graduate</td>\n",
       "      <td>Business Degree</td>\n",
       "      <td>&lt;1</td>\n",
       "      <td>NaN</td>\n",
       "      <td>Pvt Ltd</td>\n",
       "      <td>never</td>\n",
       "      <td>52</td>\n",
       "      <td>1.0</td>\n",
       "    </tr>\n",
       "    <tr>\n",
       "      <th>4</th>\n",
       "      <td>666</td>\n",
       "      <td>city_162</td>\n",
       "      <td>0.767</td>\n",
       "      <td>Male</td>\n",
       "      <td>Has relevent experience</td>\n",
       "      <td>no_enrollment</td>\n",
       "      <td>Masters</td>\n",
       "      <td>STEM</td>\n",
       "      <td>&gt;20</td>\n",
       "      <td>50-99</td>\n",
       "      <td>Funded Startup</td>\n",
       "      <td>4</td>\n",
       "      <td>8</td>\n",
       "      <td>0.0</td>\n",
       "    </tr>\n",
       "  </tbody>\n",
       "</table>\n",
       "</div>"
      ],
      "text/plain": [
       "   enrollee_id      city  city_development_index gender  \\\n",
       "0         8949  city_103                   0.920   Male   \n",
       "1        29725   city_40                   0.776   Male   \n",
       "2        11561   city_21                   0.624    NaN   \n",
       "3        33241  city_115                   0.789    NaN   \n",
       "4          666  city_162                   0.767   Male   \n",
       "\n",
       "       relevent_experience enrolled_university education_level  \\\n",
       "0  Has relevent experience       no_enrollment        Graduate   \n",
       "1   No relevent experience       no_enrollment        Graduate   \n",
       "2   No relevent experience    Full time course        Graduate   \n",
       "3   No relevent experience                 NaN        Graduate   \n",
       "4  Has relevent experience       no_enrollment         Masters   \n",
       "\n",
       "  major_discipline experience company_size    company_type last_new_job  \\\n",
       "0             STEM        >20          NaN             NaN            1   \n",
       "1             STEM         15        50-99         Pvt Ltd           >4   \n",
       "2             STEM          5          NaN             NaN        never   \n",
       "3  Business Degree         <1          NaN         Pvt Ltd        never   \n",
       "4             STEM        >20        50-99  Funded Startup            4   \n",
       "\n",
       "   training_hours  target  \n",
       "0              36     1.0  \n",
       "1              47     0.0  \n",
       "2              83     0.0  \n",
       "3              52     1.0  \n",
       "4               8     0.0  "
      ]
     },
     "execution_count": 37,
     "metadata": {},
     "output_type": "execute_result"
    }
   ],
   "source": [
    "Datos4=pd.read_csv(\"aug_train.csv\",engine='python')\n",
    "#Se vuelve a llamar ya que necesito un valor de experencia para graficar y la tabla alterna de un modo me borro los valores\n",
    "#de la tabla principal como si fuera global \n",
    "Datos4.head()"
   ]
  },
  {
   "cell_type": "code",
   "execution_count": 49,
   "metadata": {
    "scrolled": true
   },
   "outputs": [
    {
     "name": "stderr",
     "output_type": "stream",
     "text": [
      "<ipython-input-49-3073c0058964>:5: SettingWithCopyWarning: \n",
      "A value is trying to be set on a copy of a slice from a DataFrame\n",
      "\n",
      "See the caveats in the documentation: https://pandas.pydata.org/pandas-docs/stable/user_guide/indexing.html#returning-a-view-versus-a-copy\n",
      "  x[i]=x[i].replace(\"<\",\"\")\n",
      "<ipython-input-49-3073c0058964>:6: SettingWithCopyWarning: \n",
      "A value is trying to be set on a copy of a slice from a DataFrame\n",
      "\n",
      "See the caveats in the documentation: https://pandas.pydata.org/pandas-docs/stable/user_guide/indexing.html#returning-a-view-versus-a-copy\n",
      "  x[i]=x[i].replace(\">\",\"\")\n"
     ]
    },
    {
     "data": {
      "image/png": "[encoded data removed]",
      "text/plain": [
       "<Figure size 432x288 with 1 Axes>"
      ]
     },
     "metadata": {
      "needs_background": "light"
     },
     "output_type": "display_data"
    }
   ],
   "source": [
    "x=Datos4['experience']\n",
    "y=Datos4['training_hours']  \n",
    "i=0\n",
    "while i<100:\n",
    "    x[i]=x[i].replace(\"<\",\"\")\n",
    "    x[i]=x[i].replace(\">\",\"\")\n",
    "    i=i+1\n",
    "i=0\n",
    "while i<100:\n",
    "    int(x[i])\n",
    "    i=i+1\n",
    "i=0\n",
    "ax.set_title('Horas de Cpacitacion X Experencia')  \n",
    "ax.set_ylabel('Horas de capacitacion')\n",
    "while i<100:\n",
    "    plt.scatter(x[i],y[i])\n",
    "    i=i+1  \n",
    "plt.show()"
   ]
  },
  {
   "cell_type": "markdown",
   "metadata": {},
   "source": [
    "#### Grafica 4\n",
    "\n",
    "Aquí podemos observar que la gente tiene poca experiencia trabajando y pide una capacitación normal meramente se puede observar una capacitación moderada excepto un puntito pero no es mucha ya que ese punto tiene poca experiencia y mucha capacitación pero la mayoría es un tiempo de capacitación moderada.    \n"
   ]
  },
  {
   "cell_type": "code",
   "execution_count": 55,
   "metadata": {},
   "outputs": [
    {
     "data": {
      "text/html": [
       "<div>\n",
       "<style scoped>\n",
       "    .dataframe tbody tr th:only-of-type {\n",
       "        vertical-align: middle;\n",
       "    }\n",
       "\n",
       "    .dataframe tbody tr th {\n",
       "        vertical-align: top;\n",
       "    }\n",
       "\n",
       "    .dataframe thead th {\n",
       "        text-align: right;\n",
       "    }\n",
       "</style>\n",
       "<table border=\"1\" class=\"dataframe\">\n",
       "  <thead>\n",
       "    <tr style=\"text-align: right;\">\n",
       "      <th></th>\n",
       "      <th>training_hours</th>\n",
       "      <th>target</th>\n",
       "    </tr>\n",
       "  </thead>\n",
       "  <tbody>\n",
       "    <tr>\n",
       "      <th>training_hours</th>\n",
       "      <td>3607.018849</td>\n",
       "      <td>-0.560665</td>\n",
       "    </tr>\n",
       "    <tr>\n",
       "      <th>target</th>\n",
       "      <td>-0.560665</td>\n",
       "      <td>0.187183</td>\n",
       "    </tr>\n",
       "  </tbody>\n",
       "</table>\n",
       "</div>"
      ],
      "text/plain": [
       "                training_hours    target\n",
       "training_hours     3607.018849 -0.560665\n",
       "target               -0.560665  0.187183"
      ]
     },
     "execution_count": 55,
     "metadata": {},
     "output_type": "execute_result"
    }
   ],
   "source": [
    "#Estadistica\n",
    "Datos5=pd.read_csv(\"aug_train.csv\",engine='python')\n",
    "#Si lo vuelvo a llamar es para trabajar mas a gusto\n",
    "del Datos5[\"company_size\"]\n",
    "del Datos5[\"relevent_experience\"]\n",
    "del Datos5[\"major_discipline\"]\n",
    "del Datos5[\"experience\"]\n",
    "del Datos5[\"last_new_job\"]\n",
    "del Datos5[\"city\"]\n",
    "del Datos5[\"city_development_index\"]\n",
    "del Datos5[\"gender\"]\n",
    "del Datos5[\"enrolled_university\"]\n",
    "del Datos5[\"company_type\"]\n",
    "del Datos5[\"enrollee_id\"]\n",
    "Datos5.cov()\n",
    "#Aqui podemos ver la covalencia de quienes buscan trabajo y quienes no buscan trabajo con las otras que se entrenan "
   ]
  },
  {
   "cell_type": "code",
   "execution_count": 57,
   "metadata": {},
   "outputs": [
    {
     "data": {
      "text/html": [
       "<div>\n",
       "<style scoped>\n",
       "    .dataframe tbody tr th:only-of-type {\n",
       "        vertical-align: middle;\n",
       "    }\n",
       "\n",
       "    .dataframe tbody tr th {\n",
       "        vertical-align: top;\n",
       "    }\n",
       "\n",
       "    .dataframe thead th {\n",
       "        text-align: right;\n",
       "    }\n",
       "</style>\n",
       "<table border=\"1\" class=\"dataframe\">\n",
       "  <thead>\n",
       "    <tr style=\"text-align: right;\">\n",
       "      <th></th>\n",
       "      <th>training_hours</th>\n",
       "      <th>target</th>\n",
       "    </tr>\n",
       "  </thead>\n",
       "  <tbody>\n",
       "    <tr>\n",
       "      <th>training_hours</th>\n",
       "      <td>1.000000</td>\n",
       "      <td>-0.021577</td>\n",
       "    </tr>\n",
       "    <tr>\n",
       "      <th>target</th>\n",
       "      <td>-0.021577</td>\n",
       "      <td>1.000000</td>\n",
       "    </tr>\n",
       "  </tbody>\n",
       "</table>\n",
       "</div>"
      ],
      "text/plain": [
       "                training_hours    target\n",
       "training_hours        1.000000 -0.021577\n",
       "target               -0.021577  1.000000"
      ]
     },
     "execution_count": 57,
     "metadata": {},
     "output_type": "execute_result"
    }
   ],
   "source": [
    "#Aqui podemos observar la correlacion \n",
    "Datos5.corr()"
   ]
  },
  {
   "cell_type": "code",
   "execution_count": 58,
   "metadata": {},
   "outputs": [
    {
     "data": {
      "text/plain": [
       "336"
      ]
     },
     "execution_count": 58,
     "metadata": {},
     "output_type": "execute_result"
    }
   ],
   "source": [
    "Datos5['training_hours'].max() \n",
    "#Aqui podemos observar la cantidad maxima de horas de una persona en su capacitacion "
   ]
  },
  {
   "cell_type": "code",
   "execution_count": 59,
   "metadata": {},
   "outputs": [
    {
     "data": {
      "text/plain": [
       "1"
      ]
     },
     "execution_count": 59,
     "metadata": {},
     "output_type": "execute_result"
    }
   ],
   "source": [
    "Datos5['training_hours'].min() \n",
    "#Aqui podemos observar la cantidad Minima de horas de una persona en su capacitacion "
   ]
  },
  {
   "cell_type": "markdown",
   "metadata": {},
   "source": [
    "# Conclusión\n",
    "\n",
    "En conclusión se puede observar una gran diferencia notoria de la hora de capacitación en los niveles de estudio se puede llegar a una respuesta diciendo que los recién egresados de licenciatura son los que buscan una capacitación y además buscar otro trabajo y no quedarse donde se le capacito, por ende tiene perdidas la empresa ya que capacita y los empleados no trabajan para ella si no buscan otro empleo una idea mía seria que firmen un contrato. \n",
    " \n",
    "Una conclusión más seria ya que la mayoría de datos son string no se pueden manipular a gusto lo que hice fue usarlos a mi favor como los que contenían \"<\",\">\" eso los elimine y los convertí en enteros para poder hacer un scatter que me ayudo a ver cómo la gente que tiene menos experiencia es la que más busca la capacitación.\n",
    "\n",
    "Si se puede observar muy notoriamente como los más inexpertos son los licenciados y como buscan capacitar e irse a otro lado faltaría un dato que hable sobre si buscan más capacitación o usar sus nuevos conocimientos a su favor para ganar más dinero.\n"
   ]
  },
  {
   "cell_type": "markdown",
   "metadata": {},
   "source": [
    "# Trabajo a Futuro \n",
    "\n",
    "Para un trabajo a futuro con lo que yo tengo o se encontró es que si existe un abuso en el que gente recién egresado que tiene poca experiencia toma la capacitación muy larga y además quiere abandonar el trabajo y buscar otro empleo y ahí pierde la empresa en cuanto a costo y tiempo.\n",
    "\n",
    "La técnica de minería de datos que yo recomiendo para este proyecto sería:\n",
    "Agrupación ya que en este caso es fácil agrupar cuando son Doctores, Maestros, Licenciados usaríamos agrupación para hacer grupos con sus respectivos datos y así con los grupos estipular quienes gastan más dinero en capacitación y cuantos cumplen y así tener una idea de cómo será en el futuro y tratar de encontrar la relación aunque en teoría con las gráficas es un poco visible si no que con la técnica mejoraría.\n"
   ]
  },
  {
   "cell_type": "code",
   "execution_count": null,
   "metadata": {},
   "outputs": [],
   "source": []
  }
 ],
 "metadata": {
  "kernelspec": {
   "display_name": "Python 3",
   "language": "python",
   "name": "python3"
  },
  "language_info": {
   "codemirror_mode": {
    "name": "ipython",
    "version": 3
   },
   "file_extension": ".py",
   "mimetype": "text/x-python",
   "name": "python",
   "nbconvert_exporter": "python",
   "pygments_lexer": "ipython3",
   "version": "3.8.3"
  }
 },
 "nbformat": 4,
 "nbformat_minor": 4
}
